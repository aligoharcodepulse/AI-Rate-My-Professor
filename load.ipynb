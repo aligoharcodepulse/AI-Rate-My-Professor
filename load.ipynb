{
 "cells": [
  {
   "cell_type": "code",
<<<<<<< HEAD
   "execution_count": 1,
   "metadata": {},
   "outputs": [
    {
     "name": "stderr",
     "output_type": "stream",
     "text": [
      "c:\\Users\\PC\\miniconda3\\envs\\new_env\\lib\\site-packages\\sentence_transformers\\cross_encoder\\CrossEncoder.py:11: TqdmExperimentalWarning: Using `tqdm.autonotebook.tqdm` in notebook mode. Use `tqdm.tqdm` instead to force console mode (e.g. in jupyter console)\n",
      "  from tqdm.autonotebook import tqdm, trange\n"
     ]
    },
    {
     "data": {
      "application/vnd.jupyter.widget-view+json": {
       "model_id": "15ff64ed627b4c7384572026813ab5a7",
       "version_major": 2,
       "version_minor": 0
      },
      "text/plain": [
       "modules.json:   0%|          | 0.00/349 [00:00<?, ?B/s]"
      ]
     },
     "metadata": {},
     "output_type": "display_data"
    },
    {
     "name": "stderr",
     "output_type": "stream",
     "text": [
      "c:\\Users\\PC\\miniconda3\\envs\\new_env\\lib\\site-packages\\huggingface_hub\\file_download.py:159: UserWarning: `huggingface_hub` cache-system uses symlinks by default to efficiently store duplicated files but your machine does not support them in C:\\Users\\PC\\.cache\\huggingface\\hub\\models--sentence-transformers--all-MiniLM-L6-v2. Caching files will still work but in a degraded version that might require more space on your disk. This warning can be disabled by setting the `HF_HUB_DISABLE_SYMLINKS_WARNING` environment variable. For more details, see https://huggingface.co/docs/huggingface_hub/how-to-cache#limitations.\n",
      "To support symlinks on Windows, you either need to activate Developer Mode or to run Python as an administrator. In order to see activate developer mode, see this article: https://docs.microsoft.com/en-us/windows/apps/get-started/enable-your-device-for-development\n",
      "  warnings.warn(message)\n"
     ]
    },
    {
     "data": {
      "application/vnd.jupyter.widget-view+json": {
       "model_id": "cbe3121ebd964f96bcf3052ca2176646",
       "version_major": 2,
       "version_minor": 0
      },
      "text/plain": [
       "config_sentence_transformers.json:   0%|          | 0.00/116 [00:00<?, ?B/s]"
      ]
     },
     "metadata": {},
     "output_type": "display_data"
    },
    {
     "data": {
      "application/vnd.jupyter.widget-view+json": {
       "model_id": "a4c47a50aefd4818b0f40ae231fd4922",
       "version_major": 2,
       "version_minor": 0
      },
      "text/plain": [
       "README.md:   0%|          | 0.00/10.7k [00:00<?, ?B/s]"
      ]
     },
     "metadata": {},
     "output_type": "display_data"
    },
    {
     "data": {
      "application/vnd.jupyter.widget-view+json": {
       "model_id": "85932015468f425daf48b92748aa0962",
       "version_major": 2,
       "version_minor": 0
      },
      "text/plain": [
       "sentence_bert_config.json:   0%|          | 0.00/53.0 [00:00<?, ?B/s]"
      ]
     },
     "metadata": {},
     "output_type": "display_data"
    },
    {
     "data": {
      "application/vnd.jupyter.widget-view+json": {
       "model_id": "d669b8bbd4544c3a9ba8a66202a27b20",
       "version_major": 2,
       "version_minor": 0
      },
      "text/plain": [
       "config.json:   0%|          | 0.00/612 [00:00<?, ?B/s]"
      ]
     },
     "metadata": {},
     "output_type": "display_data"
    },
    {
     "data": {
      "application/vnd.jupyter.widget-view+json": {
       "model_id": "fd74946ad5dc4f419426df9046a23c0b",
       "version_major": 2,
       "version_minor": 0
      },
      "text/plain": [
       "model.safetensors:   0%|          | 0.00/90.9M [00:00<?, ?B/s]"
      ]
     },
     "metadata": {},
     "output_type": "display_data"
    },
    {
     "data": {
      "application/vnd.jupyter.widget-view+json": {
       "model_id": "de840d214172409a81cfa830e3803452",
       "version_major": 2,
       "version_minor": 0
      },
      "text/plain": [
       "tokenizer_config.json:   0%|          | 0.00/350 [00:00<?, ?B/s]"
      ]
     },
     "metadata": {},
     "output_type": "display_data"
    },
    {
     "data": {
      "application/vnd.jupyter.widget-view+json": {
       "model_id": "2af1d7a991764d95bb6283b886d83a51",
       "version_major": 2,
       "version_minor": 0
      },
      "text/plain": [
       "vocab.txt:   0%|          | 0.00/232k [00:00<?, ?B/s]"
      ]
     },
     "metadata": {},
     "output_type": "display_data"
    },
    {
     "data": {
      "application/vnd.jupyter.widget-view+json": {
       "model_id": "8bd3642b5ec344c6ba3675bfd771d7d3",
       "version_major": 2,
       "version_minor": 0
      },
      "text/plain": [
       "tokenizer.json:   0%|          | 0.00/466k [00:00<?, ?B/s]"
      ]
     },
     "metadata": {},
     "output_type": "display_data"
    },
    {
     "data": {
      "application/vnd.jupyter.widget-view+json": {
       "model_id": "81e68350b3b74139b50095bd5673a576",
       "version_major": 2,
       "version_minor": 0
      },
      "text/plain": [
       "special_tokens_map.json:   0%|          | 0.00/112 [00:00<?, ?B/s]"
      ]
     },
     "metadata": {},
     "output_type": "display_data"
    },
    {
     "name": "stderr",
     "output_type": "stream",
     "text": [
      "c:\\Users\\PC\\miniconda3\\envs\\new_env\\lib\\site-packages\\transformers\\tokenization_utils_base.py:1601: FutureWarning: `clean_up_tokenization_spaces` was not set. It will be set to `True` by default. This behavior will be depracted in transformers v4.45, and will be then set to `False` by default. For more details check this issue: https://github.com/huggingface/transformers/issues/31884\n",
      "  warnings.warn(\n"
     ]
    },
    {
     "data": {
      "application/vnd.jupyter.widget-view+json": {
       "model_id": "e3e0484764d14c6189de706254753e0f",
       "version_major": 2,
       "version_minor": 0
      },
      "text/plain": [
       "1_Pooling/config.json:   0%|          | 0.00/190 [00:00<?, ?B/s]"
      ]
     },
     "metadata": {},
     "output_type": "display_data"
    },
    {
     "name": "stdout",
     "output_type": "stream",
     "text": [
      "Embedding Dimension: 384\n"
=======
   "execution_count": 2,
   "metadata": {},
   "outputs": [],
   "source": [
    "from dotenv import load_dotenv\n",
    "load_dotenv()\n",
    "import os\n",
    "from pinecone import Pinecone,ServerlessSpec\n",
    "import os\n",
    "from groq import Groq\n"
   ]
  },
  {
   "cell_type": "code",
   "execution_count": 4,
   "metadata": {},
   "outputs": [
    {
     "name": "stdout",
     "output_type": "stream",
     "text": [
      "Bonjour, comment ça va ?\n",
      "\n",
      "This is a common French greeting that is equivalent to the English phrase, \"Hello, how are you?\" In French, \"Bonjour\" means \"hello\" or \"good day,\" while \"comment ça va\" is a question that translates to \"how are things going?\" or \"what's new?\"\n",
      "\n",
      "Together, these phrases form a polite and friendly way to greet someone and ask about their well-being in French. Just like in English, it is a common way to start a conversation and show that you are interested in the other person's life.\n"
>>>>>>> 1c7af8fbe06ffe6c9a3ba81d8d22f822ac7c47e6
     ]
    }
   ],
   "source": [
<<<<<<< HEAD
    "\n",
    "from sentence_transformers import SentenceTransformer\n",
    "\n",
    "model = SentenceTransformer('all-MiniLM-L6-v2')\n",
    "dimension = model.get_sentence_embedding_dimension()\n",
    "print(f\"Embedding Dimension: {dimension}\")\n"
   ]
  },
  {
   "cell_type": "markdown",
   "metadata": {},
   "source": []
  },
  {
   "cell_type": "code",
   "execution_count": 6,
   "metadata": {},
   "outputs": [
    {
     "ename": "PineconeApiException",
     "evalue": "(409)\nReason: Conflict\nHTTP response headers: HTTPHeaderDict({'content-type': 'text/plain; charset=utf-8', 'access-control-allow-origin': '*', 'vary': 'origin,access-control-request-method,access-control-request-headers', 'access-control-expose-headers': '*', 'x-pinecone-api-version': '2024-07', 'X-Cloud-Trace-Context': '1cb838b056901a4b80cac834696c557a', 'Date': 'Mon, 26 Aug 2024 17:59:07 GMT', 'Server': 'Google Frontend', 'Content-Length': '85', 'Via': '1.1 google', 'Alt-Svc': 'h3=\":443\"; ma=2592000,h3-29=\":443\"; ma=2592000'})\nHTTP response body: {\"error\":{\"code\":\"ALREADY_EXISTS\",\"message\":\"Resource  already exists\"},\"status\":409}\n",
     "output_type": "error",
     "traceback": [
      "\u001b[1;31m---------------------------------------------------------------------------\u001b[0m",
      "\u001b[1;31mPineconeApiException\u001b[0m                      Traceback (most recent call last)",
      "Cell \u001b[1;32mIn[6], line 17\u001b[0m\n\u001b[0;32m     15\u001b[0m index_name \u001b[38;5;241m=\u001b[39m \u001b[38;5;124m\"\u001b[39m\u001b[38;5;124mrag\u001b[39m\u001b[38;5;124m\"\u001b[39m\n\u001b[0;32m     16\u001b[0m \u001b[38;5;28;01mif\u001b[39;00m index_name \u001b[38;5;129;01mnot\u001b[39;00m \u001b[38;5;129;01min\u001b[39;00m pc\u001b[38;5;241m.\u001b[39mlist_indexes():\n\u001b[1;32m---> 17\u001b[0m     \u001b[43mpc\u001b[49m\u001b[38;5;241;43m.\u001b[39;49m\u001b[43mcreate_index\u001b[49m\u001b[43m(\u001b[49m\u001b[43mname\u001b[49m\u001b[38;5;241;43m=\u001b[39;49m\u001b[43mindex_name\u001b[49m\u001b[43m,\u001b[49m\u001b[43m \u001b[49m\u001b[43mdimension\u001b[49m\u001b[38;5;241;43m=\u001b[39;49m\u001b[38;5;241;43m384\u001b[39;49m\u001b[43m,\u001b[49m\u001b[43m \u001b[49m\u001b[43mmetric\u001b[49m\u001b[38;5;241;43m=\u001b[39;49m\u001b[38;5;124;43m\"\u001b[39;49m\u001b[38;5;124;43mcosine\u001b[39;49m\u001b[38;5;124;43m\"\u001b[39;49m\u001b[43m,\u001b[49m\u001b[43m \u001b[49m\u001b[43mspec\u001b[49m\u001b[38;5;241;43m=\u001b[39;49m\u001b[43mServerlessSpec\u001b[49m\u001b[43m(\u001b[49m\u001b[43mcloud\u001b[49m\u001b[38;5;241;43m=\u001b[39;49m\u001b[38;5;124;43m\"\u001b[39;49m\u001b[38;5;124;43maws\u001b[39;49m\u001b[38;5;124;43m\"\u001b[39;49m\u001b[43m,\u001b[49m\u001b[43m \u001b[49m\u001b[43mregion\u001b[49m\u001b[38;5;241;43m=\u001b[39;49m\u001b[38;5;124;43m\"\u001b[39;49m\u001b[38;5;124;43mus-east-1\u001b[39;49m\u001b[38;5;124;43m\"\u001b[39;49m\u001b[43m)\u001b[49m\u001b[43m)\u001b[49m\n",
      "File \u001b[1;32mc:\\Users\\PC\\miniconda3\\envs\\new_env\\lib\\site-packages\\pinecone\\control\\pinecone.py:384\u001b[0m, in \u001b[0;36mPinecone.create_index\u001b[1;34m(self, name, dimension, spec, metric, timeout, deletion_protection)\u001b[0m\n\u001b[0;32m    381\u001b[0m \u001b[38;5;28;01melse\u001b[39;00m:\n\u001b[0;32m    382\u001b[0m     \u001b[38;5;28;01mraise\u001b[39;00m \u001b[38;5;167;01mTypeError\u001b[39;00m(\u001b[38;5;124m\"\u001b[39m\u001b[38;5;124mspec must be of type dict, ServerlessSpec, or PodSpec\u001b[39m\u001b[38;5;124m\"\u001b[39m)\n\u001b[1;32m--> 384\u001b[0m \u001b[43mapi_instance\u001b[49m\u001b[38;5;241;43m.\u001b[39;49m\u001b[43mcreate_index\u001b[49m\u001b[43m(\u001b[49m\n\u001b[0;32m    385\u001b[0m \u001b[43m    \u001b[49m\u001b[43mcreate_index_request\u001b[49m\u001b[38;5;241;43m=\u001b[39;49m\u001b[43mCreateIndexRequest\u001b[49m\u001b[43m(\u001b[49m\n\u001b[0;32m    386\u001b[0m \u001b[43m        \u001b[49m\u001b[43mname\u001b[49m\u001b[38;5;241;43m=\u001b[39;49m\u001b[43mname\u001b[49m\u001b[43m,\u001b[49m\n\u001b[0;32m    387\u001b[0m \u001b[43m        \u001b[49m\u001b[43mdimension\u001b[49m\u001b[38;5;241;43m=\u001b[39;49m\u001b[43mdimension\u001b[49m\u001b[43m,\u001b[49m\n\u001b[0;32m    388\u001b[0m \u001b[43m        \u001b[49m\u001b[43mmetric\u001b[49m\u001b[38;5;241;43m=\u001b[39;49m\u001b[43mmetric\u001b[49m\u001b[43m,\u001b[49m\n\u001b[0;32m    389\u001b[0m \u001b[43m        \u001b[49m\u001b[43mspec\u001b[49m\u001b[38;5;241;43m=\u001b[39;49m\u001b[43mindex_spec\u001b[49m\u001b[43m,\u001b[49m\n\u001b[0;32m    390\u001b[0m \u001b[43m        \u001b[49m\u001b[43mdeletion_protection\u001b[49m\u001b[38;5;241;43m=\u001b[39;49m\u001b[43mdp\u001b[49m\u001b[43m,\u001b[49m\n\u001b[0;32m    391\u001b[0m \u001b[43m    \u001b[49m\u001b[43m)\u001b[49m\u001b[43m,\u001b[49m\n\u001b[0;32m    392\u001b[0m \u001b[43m\u001b[49m\u001b[43m)\u001b[49m\n\u001b[0;32m    394\u001b[0m \u001b[38;5;28;01mdef\u001b[39;00m \u001b[38;5;21mis_ready\u001b[39m():\n\u001b[0;32m    395\u001b[0m     status \u001b[38;5;241m=\u001b[39m \u001b[38;5;28mself\u001b[39m\u001b[38;5;241m.\u001b[39m_get_status(name)\n",
      "File \u001b[1;32mc:\\Users\\PC\\miniconda3\\envs\\new_env\\lib\\site-packages\\pinecone\\core\\openapi\\shared\\api_client.py:761\u001b[0m, in \u001b[0;36mEndpoint.__call__\u001b[1;34m(self, *args, **kwargs)\u001b[0m\n\u001b[0;32m    750\u001b[0m \u001b[38;5;28;01mdef\u001b[39;00m \u001b[38;5;21m__call__\u001b[39m(\u001b[38;5;28mself\u001b[39m, \u001b[38;5;241m*\u001b[39margs, \u001b[38;5;241m*\u001b[39m\u001b[38;5;241m*\u001b[39mkwargs):\n\u001b[0;32m    751\u001b[0m \u001b[38;5;250m    \u001b[39m\u001b[38;5;124;03m\"\"\"This method is invoked when endpoints are called\u001b[39;00m\n\u001b[0;32m    752\u001b[0m \u001b[38;5;124;03m    Example:\u001b[39;00m\n\u001b[0;32m    753\u001b[0m \n\u001b[1;32m   (...)\u001b[0m\n\u001b[0;32m    759\u001b[0m \n\u001b[0;32m    760\u001b[0m \u001b[38;5;124;03m    \"\"\"\u001b[39;00m\n\u001b[1;32m--> 761\u001b[0m     \u001b[38;5;28;01mreturn\u001b[39;00m \u001b[38;5;28mself\u001b[39m\u001b[38;5;241m.\u001b[39mcallable(\u001b[38;5;28mself\u001b[39m, \u001b[38;5;241m*\u001b[39margs, \u001b[38;5;241m*\u001b[39m\u001b[38;5;241m*\u001b[39mkwargs)\n",
      "File \u001b[1;32mc:\\Users\\PC\\miniconda3\\envs\\new_env\\lib\\site-packages\\pinecone\\core\\openapi\\control\\api\\manage_indexes_api.py:273\u001b[0m, in \u001b[0;36mManageIndexesApi.__init__.<locals>.__create_index\u001b[1;34m(self, create_index_request, **kwargs)\u001b[0m\n\u001b[0;32m    271\u001b[0m kwargs[\u001b[38;5;124m\"\u001b[39m\u001b[38;5;124m_host_index\u001b[39m\u001b[38;5;124m\"\u001b[39m] \u001b[38;5;241m=\u001b[39m kwargs\u001b[38;5;241m.\u001b[39mget(\u001b[38;5;124m\"\u001b[39m\u001b[38;5;124m_host_index\u001b[39m\u001b[38;5;124m\"\u001b[39m)\n\u001b[0;32m    272\u001b[0m kwargs[\u001b[38;5;124m\"\u001b[39m\u001b[38;5;124mcreate_index_request\u001b[39m\u001b[38;5;124m\"\u001b[39m] \u001b[38;5;241m=\u001b[39m create_index_request\n\u001b[1;32m--> 273\u001b[0m \u001b[38;5;28;01mreturn\u001b[39;00m \u001b[38;5;28mself\u001b[39m\u001b[38;5;241m.\u001b[39mcall_with_http_info(\u001b[38;5;241m*\u001b[39m\u001b[38;5;241m*\u001b[39mkwargs)\n",
      "File \u001b[1;32mc:\\Users\\PC\\miniconda3\\envs\\new_env\\lib\\site-packages\\pinecone\\core\\openapi\\shared\\api_client.py:819\u001b[0m, in \u001b[0;36mEndpoint.call_with_http_info\u001b[1;34m(self, **kwargs)\u001b[0m\n\u001b[0;32m    816\u001b[0m     header_list \u001b[38;5;241m=\u001b[39m \u001b[38;5;28mself\u001b[39m\u001b[38;5;241m.\u001b[39mapi_client\u001b[38;5;241m.\u001b[39mselect_header_content_type(content_type_headers_list)\n\u001b[0;32m    817\u001b[0m     params[\u001b[38;5;124m\"\u001b[39m\u001b[38;5;124mheader\u001b[39m\u001b[38;5;124m\"\u001b[39m][\u001b[38;5;124m\"\u001b[39m\u001b[38;5;124mContent-Type\u001b[39m\u001b[38;5;124m\"\u001b[39m] \u001b[38;5;241m=\u001b[39m header_list\n\u001b[1;32m--> 819\u001b[0m \u001b[38;5;28;01mreturn\u001b[39;00m \u001b[38;5;28;43mself\u001b[39;49m\u001b[38;5;241;43m.\u001b[39;49m\u001b[43mapi_client\u001b[49m\u001b[38;5;241;43m.\u001b[39;49m\u001b[43mcall_api\u001b[49m\u001b[43m(\u001b[49m\n\u001b[0;32m    820\u001b[0m \u001b[43m    \u001b[49m\u001b[38;5;28;43mself\u001b[39;49m\u001b[38;5;241;43m.\u001b[39;49m\u001b[43msettings\u001b[49m\u001b[43m[\u001b[49m\u001b[38;5;124;43m\"\u001b[39;49m\u001b[38;5;124;43mendpoint_path\u001b[39;49m\u001b[38;5;124;43m\"\u001b[39;49m\u001b[43m]\u001b[49m\u001b[43m,\u001b[49m\n\u001b[0;32m    821\u001b[0m \u001b[43m    \u001b[49m\u001b[38;5;28;43mself\u001b[39;49m\u001b[38;5;241;43m.\u001b[39;49m\u001b[43msettings\u001b[49m\u001b[43m[\u001b[49m\u001b[38;5;124;43m\"\u001b[39;49m\u001b[38;5;124;43mhttp_method\u001b[39;49m\u001b[38;5;124;43m\"\u001b[39;49m\u001b[43m]\u001b[49m\u001b[43m,\u001b[49m\n\u001b[0;32m    822\u001b[0m \u001b[43m    \u001b[49m\u001b[43mparams\u001b[49m\u001b[43m[\u001b[49m\u001b[38;5;124;43m\"\u001b[39;49m\u001b[38;5;124;43mpath\u001b[39;49m\u001b[38;5;124;43m\"\u001b[39;49m\u001b[43m]\u001b[49m\u001b[43m,\u001b[49m\n\u001b[0;32m    823\u001b[0m \u001b[43m    \u001b[49m\u001b[43mparams\u001b[49m\u001b[43m[\u001b[49m\u001b[38;5;124;43m\"\u001b[39;49m\u001b[38;5;124;43mquery\u001b[39;49m\u001b[38;5;124;43m\"\u001b[39;49m\u001b[43m]\u001b[49m\u001b[43m,\u001b[49m\n\u001b[0;32m    824\u001b[0m \u001b[43m    \u001b[49m\u001b[43mparams\u001b[49m\u001b[43m[\u001b[49m\u001b[38;5;124;43m\"\u001b[39;49m\u001b[38;5;124;43mheader\u001b[39;49m\u001b[38;5;124;43m\"\u001b[39;49m\u001b[43m]\u001b[49m\u001b[43m,\u001b[49m\n\u001b[0;32m    825\u001b[0m \u001b[43m    \u001b[49m\u001b[43mbody\u001b[49m\u001b[38;5;241;43m=\u001b[39;49m\u001b[43mparams\u001b[49m\u001b[43m[\u001b[49m\u001b[38;5;124;43m\"\u001b[39;49m\u001b[38;5;124;43mbody\u001b[39;49m\u001b[38;5;124;43m\"\u001b[39;49m\u001b[43m]\u001b[49m\u001b[43m,\u001b[49m\n\u001b[0;32m    826\u001b[0m \u001b[43m    \u001b[49m\u001b[43mpost_params\u001b[49m\u001b[38;5;241;43m=\u001b[39;49m\u001b[43mparams\u001b[49m\u001b[43m[\u001b[49m\u001b[38;5;124;43m\"\u001b[39;49m\u001b[38;5;124;43mform\u001b[39;49m\u001b[38;5;124;43m\"\u001b[39;49m\u001b[43m]\u001b[49m\u001b[43m,\u001b[49m\n\u001b[0;32m    827\u001b[0m \u001b[43m    \u001b[49m\u001b[43mfiles\u001b[49m\u001b[38;5;241;43m=\u001b[39;49m\u001b[43mparams\u001b[49m\u001b[43m[\u001b[49m\u001b[38;5;124;43m\"\u001b[39;49m\u001b[38;5;124;43mfile\u001b[39;49m\u001b[38;5;124;43m\"\u001b[39;49m\u001b[43m]\u001b[49m\u001b[43m,\u001b[49m\n\u001b[0;32m    828\u001b[0m \u001b[43m    \u001b[49m\u001b[43mresponse_type\u001b[49m\u001b[38;5;241;43m=\u001b[39;49m\u001b[38;5;28;43mself\u001b[39;49m\u001b[38;5;241;43m.\u001b[39;49m\u001b[43msettings\u001b[49m\u001b[43m[\u001b[49m\u001b[38;5;124;43m\"\u001b[39;49m\u001b[38;5;124;43mresponse_type\u001b[39;49m\u001b[38;5;124;43m\"\u001b[39;49m\u001b[43m]\u001b[49m\u001b[43m,\u001b[49m\n\u001b[0;32m    829\u001b[0m \u001b[43m    \u001b[49m\u001b[43mauth_settings\u001b[49m\u001b[38;5;241;43m=\u001b[39;49m\u001b[38;5;28;43mself\u001b[39;49m\u001b[38;5;241;43m.\u001b[39;49m\u001b[43msettings\u001b[49m\u001b[43m[\u001b[49m\u001b[38;5;124;43m\"\u001b[39;49m\u001b[38;5;124;43mauth\u001b[39;49m\u001b[38;5;124;43m\"\u001b[39;49m\u001b[43m]\u001b[49m\u001b[43m,\u001b[49m\n\u001b[0;32m    830\u001b[0m \u001b[43m    \u001b[49m\u001b[43masync_req\u001b[49m\u001b[38;5;241;43m=\u001b[39;49m\u001b[43mkwargs\u001b[49m\u001b[43m[\u001b[49m\u001b[38;5;124;43m\"\u001b[39;49m\u001b[38;5;124;43masync_req\u001b[39;49m\u001b[38;5;124;43m\"\u001b[39;49m\u001b[43m]\u001b[49m\u001b[43m,\u001b[49m\n\u001b[0;32m    831\u001b[0m \u001b[43m    \u001b[49m\u001b[43m_check_type\u001b[49m\u001b[38;5;241;43m=\u001b[39;49m\u001b[43mkwargs\u001b[49m\u001b[43m[\u001b[49m\u001b[38;5;124;43m\"\u001b[39;49m\u001b[38;5;124;43m_check_return_type\u001b[39;49m\u001b[38;5;124;43m\"\u001b[39;49m\u001b[43m]\u001b[49m\u001b[43m,\u001b[49m\n\u001b[0;32m    832\u001b[0m \u001b[43m    \u001b[49m\u001b[43m_return_http_data_only\u001b[49m\u001b[38;5;241;43m=\u001b[39;49m\u001b[43mkwargs\u001b[49m\u001b[43m[\u001b[49m\u001b[38;5;124;43m\"\u001b[39;49m\u001b[38;5;124;43m_return_http_data_only\u001b[39;49m\u001b[38;5;124;43m\"\u001b[39;49m\u001b[43m]\u001b[49m\u001b[43m,\u001b[49m\n\u001b[0;32m    833\u001b[0m \u001b[43m    \u001b[49m\u001b[43m_preload_content\u001b[49m\u001b[38;5;241;43m=\u001b[39;49m\u001b[43mkwargs\u001b[49m\u001b[43m[\u001b[49m\u001b[38;5;124;43m\"\u001b[39;49m\u001b[38;5;124;43m_preload_content\u001b[39;49m\u001b[38;5;124;43m\"\u001b[39;49m\u001b[43m]\u001b[49m\u001b[43m,\u001b[49m\n\u001b[0;32m    834\u001b[0m \u001b[43m    \u001b[49m\u001b[43m_request_timeout\u001b[49m\u001b[38;5;241;43m=\u001b[39;49m\u001b[43mkwargs\u001b[49m\u001b[43m[\u001b[49m\u001b[38;5;124;43m\"\u001b[39;49m\u001b[38;5;124;43m_request_timeout\u001b[39;49m\u001b[38;5;124;43m\"\u001b[39;49m\u001b[43m]\u001b[49m\u001b[43m,\u001b[49m\n\u001b[0;32m    835\u001b[0m \u001b[43m    \u001b[49m\u001b[43m_host\u001b[49m\u001b[38;5;241;43m=\u001b[39;49m\u001b[43m_host\u001b[49m\u001b[43m,\u001b[49m\n\u001b[0;32m    836\u001b[0m \u001b[43m    \u001b[49m\u001b[43mcollection_formats\u001b[49m\u001b[38;5;241;43m=\u001b[39;49m\u001b[43mparams\u001b[49m\u001b[43m[\u001b[49m\u001b[38;5;124;43m\"\u001b[39;49m\u001b[38;5;124;43mcollection_format\u001b[39;49m\u001b[38;5;124;43m\"\u001b[39;49m\u001b[43m]\u001b[49m\u001b[43m,\u001b[49m\n\u001b[0;32m    837\u001b[0m \u001b[43m\u001b[49m\u001b[43m)\u001b[49m\n",
      "File \u001b[1;32mc:\\Users\\PC\\miniconda3\\envs\\new_env\\lib\\site-packages\\pinecone\\core\\openapi\\shared\\api_client.py:380\u001b[0m, in \u001b[0;36mApiClient.call_api\u001b[1;34m(self, resource_path, method, path_params, query_params, header_params, body, post_params, files, response_type, auth_settings, async_req, _return_http_data_only, collection_formats, _preload_content, _request_timeout, _host, _check_type)\u001b[0m\n\u001b[0;32m    326\u001b[0m \u001b[38;5;250m\u001b[39m\u001b[38;5;124;03m\"\"\"Makes the HTTP request (synchronous) and returns deserialized data.\u001b[39;00m\n\u001b[0;32m    327\u001b[0m \n\u001b[0;32m    328\u001b[0m \u001b[38;5;124;03mTo make an async_req request, set the async_req parameter.\u001b[39;00m\n\u001b[1;32m   (...)\u001b[0m\n\u001b[0;32m    377\u001b[0m \u001b[38;5;124;03m    then the method will return the response directly.\u001b[39;00m\n\u001b[0;32m    378\u001b[0m \u001b[38;5;124;03m\"\"\"\u001b[39;00m\n\u001b[0;32m    379\u001b[0m \u001b[38;5;28;01mif\u001b[39;00m \u001b[38;5;129;01mnot\u001b[39;00m async_req:\n\u001b[1;32m--> 380\u001b[0m     \u001b[38;5;28;01mreturn\u001b[39;00m \u001b[38;5;28;43mself\u001b[39;49m\u001b[38;5;241;43m.\u001b[39;49m\u001b[43m__call_api\u001b[49m\u001b[43m(\u001b[49m\n\u001b[0;32m    381\u001b[0m \u001b[43m        \u001b[49m\u001b[43mresource_path\u001b[49m\u001b[43m,\u001b[49m\n\u001b[0;32m    382\u001b[0m \u001b[43m        \u001b[49m\u001b[43mmethod\u001b[49m\u001b[43m,\u001b[49m\n\u001b[0;32m    383\u001b[0m \u001b[43m        \u001b[49m\u001b[43mpath_params\u001b[49m\u001b[43m,\u001b[49m\n\u001b[0;32m    384\u001b[0m \u001b[43m        \u001b[49m\u001b[43mquery_params\u001b[49m\u001b[43m,\u001b[49m\n\u001b[0;32m    385\u001b[0m \u001b[43m        \u001b[49m\u001b[43mheader_params\u001b[49m\u001b[43m,\u001b[49m\n\u001b[0;32m    386\u001b[0m \u001b[43m        \u001b[49m\u001b[43mbody\u001b[49m\u001b[43m,\u001b[49m\n\u001b[0;32m    387\u001b[0m \u001b[43m        \u001b[49m\u001b[43mpost_params\u001b[49m\u001b[43m,\u001b[49m\n\u001b[0;32m    388\u001b[0m \u001b[43m        \u001b[49m\u001b[43mfiles\u001b[49m\u001b[43m,\u001b[49m\n\u001b[0;32m    389\u001b[0m \u001b[43m        \u001b[49m\u001b[43mresponse_type\u001b[49m\u001b[43m,\u001b[49m\n\u001b[0;32m    390\u001b[0m \u001b[43m        \u001b[49m\u001b[43mauth_settings\u001b[49m\u001b[43m,\u001b[49m\n\u001b[0;32m    391\u001b[0m \u001b[43m        \u001b[49m\u001b[43m_return_http_data_only\u001b[49m\u001b[43m,\u001b[49m\n\u001b[0;32m    392\u001b[0m \u001b[43m        \u001b[49m\u001b[43mcollection_formats\u001b[49m\u001b[43m,\u001b[49m\n\u001b[0;32m    393\u001b[0m \u001b[43m        \u001b[49m\u001b[43m_preload_content\u001b[49m\u001b[43m,\u001b[49m\n\u001b[0;32m    394\u001b[0m \u001b[43m        \u001b[49m\u001b[43m_request_timeout\u001b[49m\u001b[43m,\u001b[49m\n\u001b[0;32m    395\u001b[0m \u001b[43m        \u001b[49m\u001b[43m_host\u001b[49m\u001b[43m,\u001b[49m\n\u001b[0;32m    396\u001b[0m \u001b[43m        \u001b[49m\u001b[43m_check_type\u001b[49m\u001b[43m,\u001b[49m\n\u001b[0;32m    397\u001b[0m \u001b[43m    \u001b[49m\u001b[43m)\u001b[49m\n\u001b[0;32m    399\u001b[0m \u001b[38;5;28;01mreturn\u001b[39;00m \u001b[38;5;28mself\u001b[39m\u001b[38;5;241m.\u001b[39mpool\u001b[38;5;241m.\u001b[39mapply_async(\n\u001b[0;32m    400\u001b[0m     \u001b[38;5;28mself\u001b[39m\u001b[38;5;241m.\u001b[39m__call_api,\n\u001b[0;32m    401\u001b[0m     (\n\u001b[1;32m   (...)\u001b[0m\n\u001b[0;32m    418\u001b[0m     ),\n\u001b[0;32m    419\u001b[0m )\n",
      "File \u001b[1;32mc:\\Users\\PC\\miniconda3\\envs\\new_env\\lib\\site-packages\\pinecone\\core\\openapi\\shared\\api_client.py:187\u001b[0m, in \u001b[0;36mApiClient.__call_api\u001b[1;34m(self, resource_path, method, path_params, query_params, header_params, body, post_params, files, response_type, auth_settings, _return_http_data_only, collection_formats, _preload_content, _request_timeout, _host, _check_type)\u001b[0m\n\u001b[0;32m    185\u001b[0m \u001b[38;5;28;01mexcept\u001b[39;00m PineconeApiException \u001b[38;5;28;01mas\u001b[39;00m e:\n\u001b[0;32m    186\u001b[0m     e\u001b[38;5;241m.\u001b[39mbody \u001b[38;5;241m=\u001b[39m e\u001b[38;5;241m.\u001b[39mbody\u001b[38;5;241m.\u001b[39mdecode(\u001b[38;5;124m\"\u001b[39m\u001b[38;5;124mutf-8\u001b[39m\u001b[38;5;124m\"\u001b[39m)\n\u001b[1;32m--> 187\u001b[0m     \u001b[38;5;28;01mraise\u001b[39;00m e\n\u001b[0;32m    189\u001b[0m \u001b[38;5;28mself\u001b[39m\u001b[38;5;241m.\u001b[39mlast_response \u001b[38;5;241m=\u001b[39m response_data\n\u001b[0;32m    191\u001b[0m return_data \u001b[38;5;241m=\u001b[39m response_data\n",
      "File \u001b[1;32mc:\\Users\\PC\\miniconda3\\envs\\new_env\\lib\\site-packages\\pinecone\\core\\openapi\\shared\\api_client.py:175\u001b[0m, in \u001b[0;36mApiClient.__call_api\u001b[1;34m(self, resource_path, method, path_params, query_params, header_params, body, post_params, files, response_type, auth_settings, _return_http_data_only, collection_formats, _preload_content, _request_timeout, _host, _check_type)\u001b[0m\n\u001b[0;32m    171\u001b[0m     url \u001b[38;5;241m=\u001b[39m _host \u001b[38;5;241m+\u001b[39m resource_path\n\u001b[0;32m    173\u001b[0m \u001b[38;5;28;01mtry\u001b[39;00m:\n\u001b[0;32m    174\u001b[0m     \u001b[38;5;66;03m# perform request and return response\u001b[39;00m\n\u001b[1;32m--> 175\u001b[0m     response_data \u001b[38;5;241m=\u001b[39m \u001b[38;5;28;43mself\u001b[39;49m\u001b[38;5;241;43m.\u001b[39;49m\u001b[43mrequest\u001b[49m\u001b[43m(\u001b[49m\n\u001b[0;32m    176\u001b[0m \u001b[43m        \u001b[49m\u001b[43mmethod\u001b[49m\u001b[43m,\u001b[49m\n\u001b[0;32m    177\u001b[0m \u001b[43m        \u001b[49m\u001b[43murl\u001b[49m\u001b[43m,\u001b[49m\n\u001b[0;32m    178\u001b[0m \u001b[43m        \u001b[49m\u001b[43mquery_params\u001b[49m\u001b[38;5;241;43m=\u001b[39;49m\u001b[43mquery_params\u001b[49m\u001b[43m,\u001b[49m\n\u001b[0;32m    179\u001b[0m \u001b[43m        \u001b[49m\u001b[43mheaders\u001b[49m\u001b[38;5;241;43m=\u001b[39;49m\u001b[43mheader_params\u001b[49m\u001b[43m,\u001b[49m\n\u001b[0;32m    180\u001b[0m \u001b[43m        \u001b[49m\u001b[43mpost_params\u001b[49m\u001b[38;5;241;43m=\u001b[39;49m\u001b[43mpost_params\u001b[49m\u001b[43m,\u001b[49m\n\u001b[0;32m    181\u001b[0m \u001b[43m        \u001b[49m\u001b[43mbody\u001b[49m\u001b[38;5;241;43m=\u001b[39;49m\u001b[43mbody\u001b[49m\u001b[43m,\u001b[49m\n\u001b[0;32m    182\u001b[0m \u001b[43m        \u001b[49m\u001b[43m_preload_content\u001b[49m\u001b[38;5;241;43m=\u001b[39;49m\u001b[43m_preload_content\u001b[49m\u001b[43m,\u001b[49m\n\u001b[0;32m    183\u001b[0m \u001b[43m        \u001b[49m\u001b[43m_request_timeout\u001b[49m\u001b[38;5;241;43m=\u001b[39;49m\u001b[43m_request_timeout\u001b[49m\u001b[43m,\u001b[49m\n\u001b[0;32m    184\u001b[0m \u001b[43m    \u001b[49m\u001b[43m)\u001b[49m\n\u001b[0;32m    185\u001b[0m \u001b[38;5;28;01mexcept\u001b[39;00m PineconeApiException \u001b[38;5;28;01mas\u001b[39;00m e:\n\u001b[0;32m    186\u001b[0m     e\u001b[38;5;241m.\u001b[39mbody \u001b[38;5;241m=\u001b[39m e\u001b[38;5;241m.\u001b[39mbody\u001b[38;5;241m.\u001b[39mdecode(\u001b[38;5;124m\"\u001b[39m\u001b[38;5;124mutf-8\u001b[39m\u001b[38;5;124m\"\u001b[39m)\n",
      "File \u001b[1;32mc:\\Users\\PC\\miniconda3\\envs\\new_env\\lib\\site-packages\\pinecone\\core\\openapi\\shared\\api_client.py:460\u001b[0m, in \u001b[0;36mApiClient.request\u001b[1;34m(self, method, url, query_params, headers, post_params, body, _preload_content, _request_timeout)\u001b[0m\n\u001b[0;32m    450\u001b[0m     \u001b[38;5;28;01mreturn\u001b[39;00m \u001b[38;5;28mself\u001b[39m\u001b[38;5;241m.\u001b[39mrest_client\u001b[38;5;241m.\u001b[39mOPTIONS(\n\u001b[0;32m    451\u001b[0m         url,\n\u001b[0;32m    452\u001b[0m         query_params\u001b[38;5;241m=\u001b[39mquery_params,\n\u001b[1;32m   (...)\u001b[0m\n\u001b[0;32m    457\u001b[0m         body\u001b[38;5;241m=\u001b[39mbody,\n\u001b[0;32m    458\u001b[0m     )\n\u001b[0;32m    459\u001b[0m \u001b[38;5;28;01melif\u001b[39;00m method \u001b[38;5;241m==\u001b[39m \u001b[38;5;124m\"\u001b[39m\u001b[38;5;124mPOST\u001b[39m\u001b[38;5;124m\"\u001b[39m:\n\u001b[1;32m--> 460\u001b[0m     \u001b[38;5;28;01mreturn\u001b[39;00m \u001b[38;5;28;43mself\u001b[39;49m\u001b[38;5;241;43m.\u001b[39;49m\u001b[43mrest_client\u001b[49m\u001b[38;5;241;43m.\u001b[39;49m\u001b[43mPOST\u001b[49m\u001b[43m(\u001b[49m\n\u001b[0;32m    461\u001b[0m \u001b[43m        \u001b[49m\u001b[43murl\u001b[49m\u001b[43m,\u001b[49m\n\u001b[0;32m    462\u001b[0m \u001b[43m        \u001b[49m\u001b[43mquery_params\u001b[49m\u001b[38;5;241;43m=\u001b[39;49m\u001b[43mquery_params\u001b[49m\u001b[43m,\u001b[49m\n\u001b[0;32m    463\u001b[0m \u001b[43m        \u001b[49m\u001b[43mheaders\u001b[49m\u001b[38;5;241;43m=\u001b[39;49m\u001b[43mheaders\u001b[49m\u001b[43m,\u001b[49m\n\u001b[0;32m    464\u001b[0m \u001b[43m        \u001b[49m\u001b[43mpost_params\u001b[49m\u001b[38;5;241;43m=\u001b[39;49m\u001b[43mpost_params\u001b[49m\u001b[43m,\u001b[49m\n\u001b[0;32m    465\u001b[0m \u001b[43m        \u001b[49m\u001b[43m_preload_content\u001b[49m\u001b[38;5;241;43m=\u001b[39;49m\u001b[43m_preload_content\u001b[49m\u001b[43m,\u001b[49m\n\u001b[0;32m    466\u001b[0m \u001b[43m        \u001b[49m\u001b[43m_request_timeout\u001b[49m\u001b[38;5;241;43m=\u001b[39;49m\u001b[43m_request_timeout\u001b[49m\u001b[43m,\u001b[49m\n\u001b[0;32m    467\u001b[0m \u001b[43m        \u001b[49m\u001b[43mbody\u001b[49m\u001b[38;5;241;43m=\u001b[39;49m\u001b[43mbody\u001b[49m\u001b[43m,\u001b[49m\n\u001b[0;32m    468\u001b[0m \u001b[43m    \u001b[49m\u001b[43m)\u001b[49m\n\u001b[0;32m    469\u001b[0m \u001b[38;5;28;01melif\u001b[39;00m method \u001b[38;5;241m==\u001b[39m \u001b[38;5;124m\"\u001b[39m\u001b[38;5;124mPUT\u001b[39m\u001b[38;5;124m\"\u001b[39m:\n\u001b[0;32m    470\u001b[0m     \u001b[38;5;28;01mreturn\u001b[39;00m \u001b[38;5;28mself\u001b[39m\u001b[38;5;241m.\u001b[39mrest_client\u001b[38;5;241m.\u001b[39mPUT(\n\u001b[0;32m    471\u001b[0m         url,\n\u001b[0;32m    472\u001b[0m         query_params\u001b[38;5;241m=\u001b[39mquery_params,\n\u001b[1;32m   (...)\u001b[0m\n\u001b[0;32m    477\u001b[0m         body\u001b[38;5;241m=\u001b[39mbody,\n\u001b[0;32m    478\u001b[0m     )\n",
      "File \u001b[1;32mc:\\Users\\PC\\miniconda3\\envs\\new_env\\lib\\site-packages\\pinecone\\core\\openapi\\shared\\rest.py:345\u001b[0m, in \u001b[0;36mRESTClientObject.POST\u001b[1;34m(self, url, headers, query_params, post_params, body, _preload_content, _request_timeout)\u001b[0m\n\u001b[0;32m    335\u001b[0m \u001b[38;5;28;01mdef\u001b[39;00m \u001b[38;5;21mPOST\u001b[39m(\n\u001b[0;32m    336\u001b[0m     \u001b[38;5;28mself\u001b[39m,\n\u001b[0;32m    337\u001b[0m     url,\n\u001b[1;32m   (...)\u001b[0m\n\u001b[0;32m    343\u001b[0m     _request_timeout\u001b[38;5;241m=\u001b[39m\u001b[38;5;28;01mNone\u001b[39;00m,\n\u001b[0;32m    344\u001b[0m ):\n\u001b[1;32m--> 345\u001b[0m     \u001b[38;5;28;01mreturn\u001b[39;00m \u001b[38;5;28;43mself\u001b[39;49m\u001b[38;5;241;43m.\u001b[39;49m\u001b[43mrequest\u001b[49m\u001b[43m(\u001b[49m\n\u001b[0;32m    346\u001b[0m \u001b[43m        \u001b[49m\u001b[38;5;124;43m\"\u001b[39;49m\u001b[38;5;124;43mPOST\u001b[39;49m\u001b[38;5;124;43m\"\u001b[39;49m\u001b[43m,\u001b[49m\n\u001b[0;32m    347\u001b[0m \u001b[43m        \u001b[49m\u001b[43murl\u001b[49m\u001b[43m,\u001b[49m\n\u001b[0;32m    348\u001b[0m \u001b[43m        \u001b[49m\u001b[43mheaders\u001b[49m\u001b[38;5;241;43m=\u001b[39;49m\u001b[43mheaders\u001b[49m\u001b[43m,\u001b[49m\n\u001b[0;32m    349\u001b[0m \u001b[43m        \u001b[49m\u001b[43mquery_params\u001b[49m\u001b[38;5;241;43m=\u001b[39;49m\u001b[43mquery_params\u001b[49m\u001b[43m,\u001b[49m\n\u001b[0;32m    350\u001b[0m \u001b[43m        \u001b[49m\u001b[43mpost_params\u001b[49m\u001b[38;5;241;43m=\u001b[39;49m\u001b[43mpost_params\u001b[49m\u001b[43m,\u001b[49m\n\u001b[0;32m    351\u001b[0m \u001b[43m        \u001b[49m\u001b[43m_preload_content\u001b[49m\u001b[38;5;241;43m=\u001b[39;49m\u001b[43m_preload_content\u001b[49m\u001b[43m,\u001b[49m\n\u001b[0;32m    352\u001b[0m \u001b[43m        \u001b[49m\u001b[43m_request_timeout\u001b[49m\u001b[38;5;241;43m=\u001b[39;49m\u001b[43m_request_timeout\u001b[49m\u001b[43m,\u001b[49m\n\u001b[0;32m    353\u001b[0m \u001b[43m        \u001b[49m\u001b[43mbody\u001b[49m\u001b[38;5;241;43m=\u001b[39;49m\u001b[43mbody\u001b[49m\u001b[43m,\u001b[49m\n\u001b[0;32m    354\u001b[0m \u001b[43m    \u001b[49m\u001b[43m)\u001b[49m\n",
      "File \u001b[1;32mc:\\Users\\PC\\miniconda3\\envs\\new_env\\lib\\site-packages\\pinecone\\core\\openapi\\shared\\rest.py:279\u001b[0m, in \u001b[0;36mRESTClientObject.request\u001b[1;34m(self, method, url, query_params, headers, body, post_params, _preload_content, _request_timeout)\u001b[0m\n\u001b[0;32m    276\u001b[0m     \u001b[38;5;28;01mif\u001b[39;00m \u001b[38;5;241m500\u001b[39m \u001b[38;5;241m<\u001b[39m\u001b[38;5;241m=\u001b[39m r\u001b[38;5;241m.\u001b[39mstatus \u001b[38;5;241m<\u001b[39m\u001b[38;5;241m=\u001b[39m \u001b[38;5;241m599\u001b[39m:\n\u001b[0;32m    277\u001b[0m         \u001b[38;5;28;01mraise\u001b[39;00m ServiceException(http_resp\u001b[38;5;241m=\u001b[39mr)\n\u001b[1;32m--> 279\u001b[0m     \u001b[38;5;28;01mraise\u001b[39;00m PineconeApiException(http_resp\u001b[38;5;241m=\u001b[39mr)\n\u001b[0;32m    281\u001b[0m \u001b[38;5;28;01mreturn\u001b[39;00m r\n",
      "\u001b[1;31mPineconeApiException\u001b[0m: (409)\nReason: Conflict\nHTTP response headers: HTTPHeaderDict({'content-type': 'text/plain; charset=utf-8', 'access-control-allow-origin': '*', 'vary': 'origin,access-control-request-method,access-control-request-headers', 'access-control-expose-headers': '*', 'x-pinecone-api-version': '2024-07', 'X-Cloud-Trace-Context': '1cb838b056901a4b80cac834696c557a', 'Date': 'Mon, 26 Aug 2024 17:59:07 GMT', 'Server': 'Google Frontend', 'Content-Length': '85', 'Via': '1.1 google', 'Alt-Svc': 'h3=\":443\"; ma=2592000,h3-29=\":443\"; ma=2592000'})\nHTTP response body: {\"error\":{\"code\":\"ALREADY_EXISTS\",\"message\":\"Resource  already exists\"},\"status\":409}\n"
     ]
    }
   ],
   "source": [
=======
    "import os\n",
    "from groq import Groq\n",
    "\n",
    "# Set your API key\n",
    "os.environ[\"GROQ_API_KEY\"] = \"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\"\n",
    "\n",
    "# Initialize the Groq client\n",
    "client = Groq(api_key=os.getenv(\"GROQ_API_KEY\"))\n",
    "\n",
    "# Define the model and prompt\n",
    "model = \"mixtral-8x7b-32768\"  # Example model\n",
    "prompt = \"Translate the following English text to French: 'Hello, how are you?'\"\n",
>>>>>>> 1c7af8fbe06ffe6c9a3ba81d8d22f822ac7c47e6
    "\n",
    "from dotenv import load_dotenv\n",
    "\n",
<<<<<<< HEAD
    "# Load environment variables from .env file\n",
    "\n",
    "import os\n",
    "from pinecone import Pinecone, ServerlessSpec\n",
    "load_dotenv()\n",
    "# Initialize Pinecone with the API key\n",
    "\n",
    "\n",
    "# Initialize Pinecone with the API key\n",
    "pc = Pinecone(api_key=os.getenv(\"PINECONE_API_KEY\"))\n",
    "\n",
    "# Create a new index (if not already created)\n",
    "index_name = \"rag-index\"\n",
    "if index_name not in pc.list_indexes():\n",
    "    pc.create_index(name=index_name, dimension=384, metric=\"cosine\", spec=ServerlessSpec(cloud=\"aws\", region=\"us-east-1\"))\n",
    "\n",
    "\n"
   ]
  },
  {
   "cell_type": "code",
   "execution_count": 7,
   "metadata": {},
   "outputs": [
    {
     "data": {
      "text/plain": [
       "[{'professor': 'Dr. Emily Chen',\n",
       "  'subject': 'Physics',\n",
       "  'stars': 4,\n",
       "  'review': 'Excellent lecturer, but assignments can be challenging.'},\n",
       " {'professor': 'Prof. Michael Johnson',\n",
       "  'subject': 'History',\n",
       "  'stars': 5,\n",
       "  'review': 'Engaging and passionate about the subject. Highly recommended!'},\n",
       " {'professor': 'Dr. Sarah Thompson',\n",
       "  'subject': 'Biology',\n",
       "  'stars': 3,\n",
       "  'review': 'Knowledgeable, but lectures can be dry at times.'},\n",
       " {'professor': 'Prof. David Rodriguez',\n",
       "  'subject': 'Computer Science',\n",
       "  'stars': 5,\n",
       "  'review': 'Clear explanations and very helpful during office hours.'},\n",
       " {'professor': 'Dr. Amanda Lee',\n",
       "  'subject': 'Psychology',\n",
       "  'stars': 4,\n",
       "  'review': 'Interesting course content, fair grader.'},\n",
       " {'professor': 'Prof. Robert Taylor',\n",
       "  'subject': 'Economics',\n",
       "  'stars': 2,\n",
       "  'review': 'Difficult to follow in class, not very responsive to emails.'},\n",
       " {'professor': 'Dr. Jessica Brown',\n",
       "  'subject': 'Chemistry',\n",
       "  'stars': 5,\n",
       "  'review': 'Amazing professor! Makes complex topics easy to understand.'},\n",
       " {'professor': 'Prof. William Anderson',\n",
       "  'subject': 'Philosophy',\n",
       "  'stars': 4,\n",
       "  'review': 'Thought-provoking lectures, but heavy workload.'},\n",
       " {'professor': 'Dr. Rachel Martinez',\n",
       "  'subject': 'Sociology',\n",
       "  'stars': 3,\n",
       "  'review': 'Decent teacher, but class discussions could be better managed.'},\n",
       " {'professor': 'Prof. Christopher Wilson',\n",
       "  'subject': 'Mathematics',\n",
       "  'stars': 5,\n",
       "  'review': 'Brilliant instructor, always willing to help students.'},\n",
       " {'professor': 'Dr. Elizabeth Davis',\n",
       "  'subject': 'English Literature',\n",
       "  'stars': 4,\n",
       "  'review': 'Insightful analysis of texts, but grading can be subjective.'},\n",
       " {'professor': 'Prof. Thomas Moore',\n",
       "  'subject': 'Political Science',\n",
       "  'stars': 3,\n",
       "  'review': 'Knowledgeable about the subject, but lectures can be monotonous.'},\n",
       " {'professor': 'Dr. Olivia White',\n",
       "  'subject': 'Art History',\n",
       "  'stars': 5,\n",
       "  'review': 'Passionate and makes the subject come alive. Great visual presentations.'},\n",
       " {'professor': 'Prof. James Harris',\n",
       "  'subject': 'Mechanical Engineering',\n",
       "  'stars': 4,\n",
       "  'review': 'Solid teaching style, practical assignments.'},\n",
       " {'professor': 'Dr. Sophia Nguyen',\n",
       "  'subject': 'Linguistics',\n",
       "  'stars': 5,\n",
       "  'review': 'Exceptional teacher, creates a supportive learning environment.'},\n",
       " {'professor': 'Prof. Daniel Clark',\n",
       "  'subject': 'Business Administration',\n",
       "  'stars': 2,\n",
       "  'review': 'Seems disorganized, often unprepared for class.'},\n",
       " {'professor': 'Dr. Natalie Kim',\n",
       "  'subject': 'Neuroscience',\n",
       "  'stars': 4,\n",
       "  'review': 'Challenging course, but Dr. Kim explains concepts well.'},\n",
       " {'professor': 'Prof. Matthew Green',\n",
       "  'subject': 'Environmental Science',\n",
       "  'stars': 5,\n",
       "  'review': 'Inspiring lecturer, great at connecting theory to real-world issues.'},\n",
       " {'professor': 'Dr. Laura Scott',\n",
       "  'subject': 'French Language',\n",
       "  'stars': 3,\n",
       "  'review': 'Good language skills, but could improve on teaching methods.'},\n",
       " {'professor': 'Prof. Kevin Baker',\n",
       "  'subject': 'Statistics',\n",
       "  'stars': 4,\n",
       "  'review': 'Clear explanations of difficult concepts, helpful feedback on assignments.'}]"
      ]
     },
     "execution_count": 7,
     "metadata": {},
     "output_type": "execute_result"
    }
   ],
   "source": [
    "import json\n",
    "data=json.load(open(\"reviews.json\"))\n",
    "data[\"reviews\"]"
   ]
  },
  {
   "cell_type": "markdown",
   "metadata": {},
   "source": []
  },
  {
   "cell_type": "code",
   "execution_count": 8,
   "metadata": {},
   "outputs": [
    {
     "name": "stderr",
     "output_type": "stream",
     "text": [
      "c:\\Users\\PC\\miniconda3\\envs\\new_env\\lib\\site-packages\\transformers\\tokenization_utils_base.py:1601: FutureWarning: `clean_up_tokenization_spaces` was not set. It will be set to `True` by default. This behavior will be depracted in transformers v4.45, and will be then set to `False` by default. For more details check this issue: https://github.com/huggingface/transformers/issues/31884\n",
      "  warnings.warn(\n"
     ]
    }
   ],
   "source": [
    "from sentence_transformers import SentenceTransformer\n",
    "\n",
    "model = SentenceTransformer('all-MiniLM-L6-v2')\n",
    "\n",
    "processed_data = []\n",
    "\n",
    "for review in data['reviews']:\n",
    "    embedding = model.encode(review['review']).tolist()\n",
    "    processed_data.append({\n",
    "        \"values\": embedding,\n",
    "        \"id\": review[\"professor\"],\n",
    "        \"metadata\": {\n",
    "            \"review\": review[\"review\"],\n",
    "            \"subject\": review[\"subject\"],\n",
    "            \"stars\": review[\"stars\"]\n",
    "        }\n",
    "    })"
   ]
  },
  {
   "cell_type": "code",
   "execution_count": 9,
   "metadata": {},
   "outputs": [
    {
     "data": {
      "text/plain": [
       "{'values': [-0.029970407485961914,\n",
       "  -0.0040754228830337524,\n",
       "  -0.004866651259362698,\n",
       "  -0.010555448941886425,\n",
       "  -0.06053842231631279,\n",
       "  0.023034460842609406,\n",
       "  0.0013133095344528556,\n",
       "  -0.012116082943975925,\n",
       "  -0.051970452070236206,\n",
       "  0.01520372461527586,\n",
       "  -0.04600081592798233,\n",
       "  0.03263942152261734,\n",
       "  -0.07795272022485733,\n",
       "  0.0662427470088005,\n",
       "  -0.051370494067668915,\n",
       "  -0.009208851493895054,\n",
       "  -0.030326882377266884,\n",
       "  -0.008620434440672398,\n",
       "  0.008567764423787594,\n",
       "  -0.0906384140253067,\n",
       "  0.048687852919101715,\n",
       "  0.08002109825611115,\n",
       "  0.010282719507813454,\n",
       "  -0.06554734706878662,\n",
       "  -0.009823468513786793,\n",
       "  -0.03973395377397537,\n",
       "  0.002944587729871273,\n",
       "  -0.046321604400873184,\n",
       "  0.10985687375068665,\n",
       "  -0.06387391686439514,\n",
       "  -0.06101561337709427,\n",
       "  0.01857702061533928,\n",
       "  0.02898179367184639,\n",
       "  0.07436540722846985,\n",
       "  -0.01780005544424057,\n",
       "  0.09366732090711594,\n",
       "  -0.05823691189289093,\n",
       "  0.09462447464466095,\n",
       "  0.037052929401397705,\n",
       "  0.03341935947537422,\n",
       "  0.00885892752557993,\n",
       "  0.051118869334459305,\n",
       "  0.07696109265089035,\n",
       "  -0.022231409326195717,\n",
       "  0.03536362946033478,\n",
       "  -0.10589314997196198,\n",
       "  0.019339455291628838,\n",
       "  -0.07707682251930237,\n",
       "  -0.006066675763577223,\n",
       "  -0.08665621280670166,\n",
       "  -0.052339088171720505,\n",
       "  -0.043775010854005814,\n",
       "  -0.07650173455476761,\n",
       "  -0.03637397661805153,\n",
       "  -0.03727645054459572,\n",
       "  -0.036311276257038116,\n",
       "  0.06752080470323563,\n",
       "  0.011130599305033684,\n",
       "  0.015066116116940975,\n",
       "  -0.08351617306470871,\n",
       "  -0.052532926201820374,\n",
       "  -0.022036205977201462,\n",
       "  -0.018164047971367836,\n",
       "  0.05274246633052826,\n",
       "  0.09383563697338104,\n",
       "  0.01388219278305769,\n",
       "  -0.023464979603886604,\n",
       "  0.0943547785282135,\n",
       "  -0.05330735445022583,\n",
       "  0.12781362235546112,\n",
       "  -0.058781590312719345,\n",
       "  0.014267384074628353,\n",
       "  0.025803860276937485,\n",
       "  0.06472507119178772,\n",
       "  0.1032930463552475,\n",
       "  -0.06313689798116684,\n",
       "  0.0417889729142189,\n",
       "  -0.006600435823202133,\n",
       "  0.05559573695063591,\n",
       "  0.051895324140787125,\n",
       "  0.02809649519622326,\n",
       "  -0.058947205543518066,\n",
       "  0.001916823210194707,\n",
       "  0.016252633184194565,\n",
       "  0.007738661952316761,\n",
       "  -0.1361321657896042,\n",
       "  -0.008541084825992584,\n",
       "  0.02589619904756546,\n",
       "  0.020532287657260895,\n",
       "  -0.03128433972597122,\n",
       "  0.05587845668196678,\n",
       "  0.030741754919290543,\n",
       "  0.030505036935210228,\n",
       "  0.03374234586954117,\n",
       "  0.07761317491531372,\n",
       "  0.04061129316687584,\n",
       "  0.004114246927201748,\n",
       "  0.008052198216319084,\n",
       "  -0.04399711266160011,\n",
       "  0.02569962851703167,\n",
       "  -0.03472836688160896,\n",
       "  0.06861396133899689,\n",
       "  -0.05069983750581741,\n",
       "  0.04101575165987015,\n",
       "  -0.07517045736312866,\n",
       "  0.02176070772111416,\n",
       "  -0.02196778543293476,\n",
       "  -0.04127533733844757,\n",
       "  -0.03291463851928711,\n",
       "  -0.05069860443472862,\n",
       "  -0.01682334765791893,\n",
       "  0.06669662147760391,\n",
       "  -0.04125671088695526,\n",
       "  0.019114986062049866,\n",
       "  0.06109662726521492,\n",
       "  0.006256961263716221,\n",
       "  0.09628625959157944,\n",
       "  0.03931709751486778,\n",
       "  -0.06075455620884895,\n",
       "  -0.005296832881867886,\n",
       "  -0.003910343628376722,\n",
       "  0.04081116244196892,\n",
       "  -0.018397603183984756,\n",
       "  0.001579941133968532,\n",
       "  -0.009091668762266636,\n",
       "  -0.008880269713699818,\n",
       "  0.010163568891584873,\n",
       "  -4.181755766177023e-33,\n",
       "  -0.008944034576416016,\n",
       "  0.04709254950284958,\n",
       "  0.01604294590651989,\n",
       "  0.09976515173912048,\n",
       "  -0.005494839046150446,\n",
       "  -0.03622621297836304,\n",
       "  -0.03015289455652237,\n",
       "  0.060546860098838806,\n",
       "  0.020399924367666245,\n",
       "  0.017389832064509392,\n",
       "  0.04097425192594528,\n",
       "  0.028828701004385948,\n",
       "  0.040252428501844406,\n",
       "  -0.01633494906127453,\n",
       "  0.0012955262791365385,\n",
       "  -0.000836289138533175,\n",
       "  -0.015501534566283226,\n",
       "  0.04159005731344223,\n",
       "  -0.05848068371415138,\n",
       "  -0.019714107736945152,\n",
       "  -0.008867251686751842,\n",
       "  -0.013308784924447536,\n",
       "  0.03635495901107788,\n",
       "  -0.1070045456290245,\n",
       "  0.0083739273250103,\n",
       "  0.032638680189847946,\n",
       "  0.17932119965553284,\n",
       "  -0.09248310327529907,\n",
       "  0.11035232990980148,\n",
       "  0.015368475578725338,\n",
       "  0.04369259998202324,\n",
       "  -0.023761078715324402,\n",
       "  -0.11987492442131042,\n",
       "  -0.000849059724714607,\n",
       "  0.06485116481781006,\n",
       "  0.030255049467086792,\n",
       "  0.0008304804214276373,\n",
       "  -0.03518424555659294,\n",
       "  0.10395381599664688,\n",
       "  0.03158480301499367,\n",
       "  0.030948257073760033,\n",
       "  -0.0003663630341179669,\n",
       "  0.09290624409914017,\n",
       "  -0.03953630104660988,\n",
       "  0.04128643497824669,\n",
       "  0.035491276532411575,\n",
       "  0.0770476832985878,\n",
       "  -0.008586568757891655,\n",
       "  0.02175210416316986,\n",
       "  0.06338157504796982,\n",
       "  -0.16886918246746063,\n",
       "  -0.052737489342689514,\n",
       "  -0.01439976878464222,\n",
       "  -0.08140292018651962,\n",
       "  0.025805015116930008,\n",
       "  -0.03469639644026756,\n",
       "  0.03982451930642128,\n",
       "  0.06716683506965637,\n",
       "  -0.02879766747355461,\n",
       "  0.06550139933824539,\n",
       "  -0.03405971825122833,\n",
       "  0.06684692203998566,\n",
       "  -0.07000935077667236,\n",
       "  0.02140715718269348,\n",
       "  -0.04046758636832237,\n",
       "  -0.06455261260271072,\n",
       "  -0.10772822797298431,\n",
       "  -0.022705474868416786,\n",
       "  0.07206009328365326,\n",
       "  -0.02740217000246048,\n",
       "  -0.038865745067596436,\n",
       "  -0.018959589302539825,\n",
       "  0.041157837957143784,\n",
       "  -0.0683504045009613,\n",
       "  -0.02337688021361828,\n",
       "  0.05467185750603676,\n",
       "  -0.005236747208982706,\n",
       "  -0.055458951741456985,\n",
       "  -0.031332626938819885,\n",
       "  0.00610742112621665,\n",
       "  -0.025759922340512276,\n",
       "  -0.024202296510338783,\n",
       "  -0.01344374381005764,\n",
       "  -0.04651636630296707,\n",
       "  -0.04434845969080925,\n",
       "  -0.062182534486055374,\n",
       "  0.052770279347896576,\n",
       "  -0.04030792415142059,\n",
       "  0.07421378791332245,\n",
       "  0.07613895833492279,\n",
       "  -0.0012318374356254935,\n",
       "  -0.03918513283133507,\n",
       "  0.00440658163279295,\n",
       "  0.051614414900541306,\n",
       "  0.029574813321232796,\n",
       "  2.4709460634360663e-33,\n",
       "  -0.020808927714824677,\n",
       "  0.05147405341267586,\n",
       "  -0.05098138377070427,\n",
       "  0.12475739419460297,\n",
       "  0.06061215698719025,\n",
       "  0.025079142302274704,\n",
       "  -0.020792102441191673,\n",
       "  0.03364185243844986,\n",
       "  0.0027724888641387224,\n",
       "  0.01861840859055519,\n",
       "  -0.030105404555797577,\n",
       "  0.03882215544581413,\n",
       "  -0.0641264095902443,\n",
       "  0.03224508836865425,\n",
       "  -0.01792912185192108,\n",
       "  -0.08165165781974792,\n",
       "  -0.08065426349639893,\n",
       "  -0.07057472318410873,\n",
       "  -0.06692053377628326,\n",
       "  -0.06123330444097519,\n",
       "  -0.05118085443973541,\n",
       "  0.18089354038238525,\n",
       "  -0.024555526673793793,\n",
       "  0.0048462082631886005,\n",
       "  0.0416933037340641,\n",
       "  0.09765993803739548,\n",
       "  0.0012953734258189797,\n",
       "  -0.013379153795540333,\n",
       "  -0.05517230182886124,\n",
       "  0.032214876264333725,\n",
       "  -0.05198787897825241,\n",
       "  -0.02893456257879734,\n",
       "  -0.12037481367588043,\n",
       "  0.03342236578464508,\n",
       "  -0.04757283627986908,\n",
       "  0.10508520156145096,\n",
       "  0.03754821792244911,\n",
       "  -0.04472958669066429,\n",
       "  -0.0044295028783380985,\n",
       "  0.0847456082701683,\n",
       "  0.03322356939315796,\n",
       "  -0.02595565840601921,\n",
       "  0.04635847359895706,\n",
       "  -0.06351111084222794,\n",
       "  0.0409010611474514,\n",
       "  -0.01085696555674076,\n",
       "  0.05021257698535919,\n",
       "  -0.013791530393064022,\n",
       "  0.04796912893652916,\n",
       "  0.046446725726127625,\n",
       "  -0.06806686520576477,\n",
       "  0.07574047893285751,\n",
       "  -0.02790897898375988,\n",
       "  -0.049647193402051926,\n",
       "  0.06603123992681503,\n",
       "  -0.03346102312207222,\n",
       "  0.02428573928773403,\n",
       "  -0.10462787002325058,\n",
       "  0.06451542675495148,\n",
       "  -0.0011013183975592256,\n",
       "  -0.03959653526544571,\n",
       "  0.040970638394355774,\n",
       "  0.0465659461915493,\n",
       "  0.03329681605100632,\n",
       "  0.03841961920261383,\n",
       "  -0.03237827867269516,\n",
       "  -0.03637365624308586,\n",
       "  0.057022251188755035,\n",
       "  -0.004496464971452951,\n",
       "  0.023155799135565758,\n",
       "  0.027525214478373528,\n",
       "  0.00965557899326086,\n",
       "  0.06630492210388184,\n",
       "  -0.020995475351810455,\n",
       "  0.003693787846714258,\n",
       "  0.03471813350915909,\n",
       "  -0.045870836824178696,\n",
       "  0.00194345333147794,\n",
       "  -0.048197805881500244,\n",
       "  -0.03998315706849098,\n",
       "  0.04012263938784599,\n",
       "  -0.04229583218693733,\n",
       "  -0.032325707376003265,\n",
       "  0.0411619208753109,\n",
       "  -0.05112243816256523,\n",
       "  0.04762234538793564,\n",
       "  0.03673403710126877,\n",
       "  0.0030054764356464148,\n",
       "  0.042338788509368896,\n",
       "  -0.0419236421585083,\n",
       "  -0.08065006136894226,\n",
       "  0.009834608994424343,\n",
       "  0.02768748812377453,\n",
       "  -0.027934089303016663,\n",
       "  -0.017784256488084793,\n",
       "  -1.6294091409463363e-08,\n",
       "  -0.06142012029886246,\n",
       "  -0.04788120836019516,\n",
       "  -0.0025890127290040255,\n",
       "  -0.04280468448996544,\n",
       "  -0.06641629338264465,\n",
       "  -0.07416234910488129,\n",
       "  -0.04031511768698692,\n",
       "  -0.028312699869275093,\n",
       "  -0.07587035000324249,\n",
       "  0.0788821130990982,\n",
       "  0.035466816276311874,\n",
       "  -0.03561631590127945,\n",
       "  -0.039035163819789886,\n",
       "  0.041219837963581085,\n",
       "  0.009012366645038128,\n",
       "  0.0026036410126835108,\n",
       "  0.049704112112522125,\n",
       "  0.018938563764095306,\n",
       "  -0.03624538704752922,\n",
       "  -0.09533323347568512,\n",
       "  0.0433649905025959,\n",
       "  0.0807027593255043,\n",
       "  -0.018061598762869835,\n",
       "  0.032147910445928574,\n",
       "  -0.017744705080986023,\n",
       "  0.02630842663347721,\n",
       "  0.04885178804397583,\n",
       "  0.027339771389961243,\n",
       "  0.03721018508076668,\n",
       "  -0.002153852954506874,\n",
       "  -0.04164240509271622,\n",
       "  0.0821080133318901,\n",
       "  0.0081056272611022,\n",
       "  -0.007353873923420906,\n",
       "  0.01125767920166254,\n",
       "  0.030816802754998207,\n",
       "  -0.0014960162807255983,\n",
       "  -0.04053952544927597,\n",
       "  0.0004049427807331085,\n",
       "  0.029633918777108192,\n",
       "  -0.054790280759334564,\n",
       "  -0.019534410908818245,\n",
       "  0.01763281784951687,\n",
       "  0.03135225176811218,\n",
       "  0.0484619140625,\n",
       "  0.0019490031991153955,\n",
       "  -0.013711749576032162,\n",
       "  0.04781506210565567,\n",
       "  0.0069696432910859585,\n",
       "  -0.05912816524505615,\n",
       "  -0.019169533625245094,\n",
       "  -0.01413795817643404,\n",
       "  -0.00742260180413723,\n",
       "  0.011893849819898605,\n",
       "  -0.025883236899971962,\n",
       "  0.018843378871679306,\n",
       "  -0.04144348204135895,\n",
       "  -0.07563889026641846,\n",
       "  -0.08519517630338669,\n",
       "  0.024257855489850044,\n",
       "  0.003136969869956374,\n",
       "  0.043045878410339355,\n",
       "  -0.10876134783029556,\n",
       "  -0.009135130792856216],\n",
       " 'id': 'Dr. Emily Chen',\n",
       " 'metadata': {'review': 'Excellent lecturer, but assignments can be challenging.',\n",
       "  'subject': 'Physics',\n",
       "  'stars': 4}}"
      ]
     },
     "execution_count": 9,
     "metadata": {},
     "output_type": "execute_result"
    }
   ],
   "source": [
    "processed_data[0]\n"
   ]
  },
  {
   "cell_type": "code",
   "execution_count": 10,
   "metadata": {},
   "outputs": [
    {
     "data": {
      "text/plain": [
       "{'upserted_count': 20}"
      ]
     },
     "execution_count": 10,
     "metadata": {},
     "output_type": "execute_result"
    }
   ],
   "source": [
    "index=pc.Index('rag-index')\n",
    "index.upsert(\n",
    "    vectors=processed_data,\n",
    "    namespace=\"ns1\"\n",
    ")"
   ]
  },
  {
   "cell_type": "code",
   "execution_count": 11,
   "metadata": {},
   "outputs": [
    {
     "data": {
      "text/plain": [
       "{'dimension': 384,\n",
       " 'index_fullness': 0.0,\n",
       " 'namespaces': {'ns1': {'vector_count': 20}},\n",
       " 'total_vector_count': 20}"
      ]
     },
     "execution_count": 11,
     "metadata": {},
     "output_type": "execute_result"
    }
   ],
   "source": [
    "index.describe_index_stats()"
=======
    "# Print the response content\n",
    "print(response.choices[0].message.content)\n"
>>>>>>> 1c7af8fbe06ffe6c9a3ba81d8d22f822ac7c47e6
   ]
  }
 ],
 "metadata": {
  "kernelspec": {
   "display_name": "rag",
   "language": "python",
   "name": "python3"
  },
  "language_info": {
   "codemirror_mode": {
    "name": "ipython",
    "version": 3
   },
   "file_extension": ".py",
   "mimetype": "text/x-python",
   "name": "python",
   "nbconvert_exporter": "python",
   "pygments_lexer": "ipython3",
<<<<<<< HEAD
   "version": "3.9.19"
=======
   "version": "3.12.0"
>>>>>>> 1c7af8fbe06ffe6c9a3ba81d8d22f822ac7c47e6
  }
 },
 "nbformat": 4,
 "nbformat_minor": 2
}
